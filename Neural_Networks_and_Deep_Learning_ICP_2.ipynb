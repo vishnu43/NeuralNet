{
  "nbformat": 4,
  "nbformat_minor": 0,
  "metadata": {
    "colab": {
      "provenance": [],
      "authorship_tag": "ABX9TyOGUh5TF8fs93sKxQzfN+JS",
      "include_colab_link": true
    },
    "kernelspec": {
      "name": "python3",
      "display_name": "Python 3"
    },
    "language_info": {
      "name": "python"
    }
  },
  "cells": [
    {
      "cell_type": "markdown",
      "metadata": {
        "id": "view-in-github",
        "colab_type": "text"
      },
      "source": [
        "<a href=\"https://colab.research.google.com/github/vishnu43/NeuralNet/blob/main/Neural_Networks_and_Deep_Learning_ICP_2.ipynb\" target=\"_parent\"><img src=\"https://colab.research.google.com/assets/colab-badge.svg\" alt=\"Open In Colab\"/></a>"
      ]
    },
    {
      "cell_type": "code",
      "execution_count": 1,
      "metadata": {
        "colab": {
          "base_uri": "https://localhost:8080/"
        },
        "id": "ycGKuAt7GkiE",
        "outputId": "83a5413f-1b08-4f7f-8d34-e150fb808ecc"
      },
      "outputs": [
        {
          "output_type": "stream",
          "name": "stdout",
          "text": [
            "Employee 1: \n",
            "Enter name: Vish\n",
            "Family Members: 3\n",
            "Employee Salary: 50000\n",
            "Employee Department: Finance\n",
            "Employee 2: \n",
            "Enter name: Rakesh\n",
            "Family Members: 2\n",
            "Employee Salary: 60000\n",
            "Employee Department: HR\n",
            "Full Time Employee 1: \n",
            "Enter name: Abhi\n",
            "Family Members: 5\n",
            "Employee Salary: 70000\n",
            "Employee Department: Food\n",
            "\n",
            "Number of employees:  3\n",
            "Avg salary is : 55000.0\n"
          ]
        }
      ],
      "source": [
        "class Employee:\n",
        "    numberOfEmployees = 0\n",
        "\n",
        "    def __init__(self, name, family, salary, department):\n",
        "        self.name = name\n",
        "        self.family = family\n",
        "        self.salary = salary\n",
        "        self.department = department\n",
        "        Employee.numberOfEmployees+=1\n",
        "\n",
        "\n",
        "def averagesalary(employee):\n",
        "    total = sum(e.salary for e in employee)\n",
        "    average = total / len(employee)\n",
        "    return average\n",
        "\n",
        "class FulltimeEmployee(Employee):\n",
        "    def __init__(self, name, family, salary, department):\n",
        "        Employee.__init__(self,name, family, salary, department)\n",
        "\n",
        "print(\"Employee 1: \")\n",
        "employee1 = Employee(input(\"Enter name: \"),input(\"Family Members: \"),int(input(\"Employee Salary: \")),input(\"Employee Department: \"))\n",
        "print(\"Employee 2: \")\n",
        "employee2 = Employee(input(\"Enter name: \"),input(\"Family Members: \"),int(input(\"Employee Salary: \")),input(\"Employee Department: \"))\n",
        "print(\"Full Time Employee 1: \")\n",
        "employee3 = FulltimeEmployee(input(\"Enter name: \"),input(\"Family Members: \"),int(input(\"Employee Salary: \")),input(\"Employee Department: \"))\n",
        "print(\"\")\n",
        "print(\"Number of employees: \",Employee.numberOfEmployees)\n",
        "listofEmployees = [employee1, employee2]\n",
        "avgsalary = averagesalary(listofEmployees)\n",
        "print(\"Avg salary is :\", avgsalary)"
      ]
    },
    {
      "cell_type": "code",
      "source": [
        "import numpy\n",
        "\n",
        "random_vector = numpy.random.uniform(1, 20, 20)\n",
        "print(random_vector)\n",
        "print(\"\")\n",
        "print(\"\")\n",
        "reshaped_array = random_vector.reshape(4, 5)\n",
        "print(\"\")\n",
        "print(\"\")\n",
        "print(reshaped_array)\n",
        "reshaped_array[numpy.arange(4), numpy.argmax(reshaped_array, axis=1)] = 0\n",
        "print(\"\")\n",
        "print(\"\")\n",
        "print(reshaped_array)"
      ],
      "metadata": {
        "colab": {
          "base_uri": "https://localhost:8080/"
        },
        "id": "-ydLSszRIbBN",
        "outputId": "ed58edf3-3b8d-46a5-9f3a-1472fa0722ed"
      },
      "execution_count": 5,
      "outputs": [
        {
          "output_type": "stream",
          "name": "stdout",
          "text": [
            "[ 7.40165366  6.3116223  16.50323716  5.48047667 13.74045422  7.69563401\n",
            "  7.52419799  7.00751335  6.22175667  3.85855082 16.78390387 16.66034574\n",
            "  2.63424337 14.48468167 11.98072179  5.89671271  8.15180288  4.89743286\n",
            " 18.55516017 12.54288981]\n",
            "\n",
            "\n",
            "\n",
            "\n",
            "[[ 7.40165366  6.3116223  16.50323716  5.48047667 13.74045422]\n",
            " [ 7.69563401  7.52419799  7.00751335  6.22175667  3.85855082]\n",
            " [16.78390387 16.66034574  2.63424337 14.48468167 11.98072179]\n",
            " [ 5.89671271  8.15180288  4.89743286 18.55516017 12.54288981]]\n",
            "\n",
            "\n",
            "[[ 7.40165366  6.3116223   0.          5.48047667 13.74045422]\n",
            " [ 0.          7.52419799  7.00751335  6.22175667  3.85855082]\n",
            " [ 0.         16.66034574  2.63424337 14.48468167 11.98072179]\n",
            " [ 5.89671271  8.15180288  4.89743286  0.         12.54288981]]\n"
          ]
        }
      ]
    }
  ]
}