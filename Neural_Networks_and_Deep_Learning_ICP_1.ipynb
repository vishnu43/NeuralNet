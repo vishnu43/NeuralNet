{
  "nbformat": 4,
  "nbformat_minor": 0,
  "metadata": {
    "colab": {
      "provenance": [],
      "authorship_tag": "ABX9TyNwbMT8dbhTocagaH3puUtw",
      "include_colab_link": true
    },
    "kernelspec": {
      "name": "python3",
      "display_name": "Python 3"
    },
    "language_info": {
      "name": "python"
    }
  },
  "cells": [
    {
      "cell_type": "markdown",
      "metadata": {
        "id": "view-in-github",
        "colab_type": "text"
      },
      "source": [
        "<a href=\"https://colab.research.google.com/github/vishnu43/NeuralNet/blob/main/Neural_Networks_and_Deep_Learning_ICP_1.ipynb\" target=\"_parent\"><img src=\"https://colab.research.google.com/assets/colab-badge.svg\" alt=\"Open In Colab\"/></a>"
      ]
    },
    {
      "cell_type": "code",
      "execution_count": null,
      "metadata": {
        "colab": {
          "base_uri": "https://localhost:8080/"
        },
        "id": "6FDu8Rawhv_h",
        "outputId": "85dc3b9d-4be2-4076-c75f-dde345aa97fe"
      },
      "outputs": [
        {
          "output_type": "stream",
          "name": "stdout",
          "text": [
            "Vishnuvivek\n",
            "Balya\n",
            "Vishnuvivek Balya\n"
          ]
        }
      ],
      "source": [
        "def full_name(u,v):\n",
        "  return u+\" \"+v\n",
        "firstname=input()\n",
        "lastname=input()\n",
        "print(full_name(firstname,lastname))"
      ]
    },
    {
      "cell_type": "code",
      "source": [
        "def string_alternative(s):\n",
        "  return s[::2]\n",
        "print(string_alternative(input()))"
      ],
      "metadata": {
        "colab": {
          "base_uri": "https://localhost:8080/"
        },
        "id": "Ey5-7IFwiPHt",
        "outputId": "1ba02943-2d72-4e87-c202-189cb8b2c1fd"
      },
      "execution_count": null,
      "outputs": [
        {
          "output_type": "stream",
          "name": "stdout",
          "text": [
            "Good Evening\n",
            "Go vnn\n"
          ]
        }
      ]
    },
    {
      "cell_type": "code",
      "source": [
        "text = open(\"input.txt\", \"r\")\n",
        "d = dict()\n",
        "for line in text:\n",
        "\n",
        "    line = line.strip()\n",
        "    line = line.lower()\n",
        "    words = line.split(\" \")\n",
        "    for word in words:\n",
        "        if word in d:\n",
        "            d[word] = d[word] + 1\n",
        "        else:\n",
        "            d[word] = 1\n",
        "file1 = open('output.txt', 'w')\n",
        "s=\"\"\n",
        "for key in list(d.keys()):\n",
        "    s+=key+ \":\"+ str(d[key])+\"\\n\"\n",
        "file1.write(s)\n",
        "file1.close()"
      ],
      "metadata": {
        "id": "GtRpYU86ilR2"
      },
      "execution_count": null,
      "outputs": []
    },
    {
      "cell_type": "code",
      "source": [
        "k=[]\n",
        "l1=[]\n",
        "n=int(input(\"Enter number of customers:\"))\n",
        "for i in range(n):\n",
        "  k.append(int(input()))\n",
        "  l1.append(k[i]*2.54)\n",
        "print(k)\n",
        "print(l1)"
      ],
      "metadata": {
        "colab": {
          "base_uri": "https://localhost:8080/"
        },
        "id": "MSHF-5USitYI",
        "outputId": "1ec37c72-1d66-4fbb-fa01-23012e4d48c0"
      },
      "execution_count": null,
      "outputs": [
        {
          "output_type": "stream",
          "name": "stdout",
          "text": [
            "Enter number of customers:3\n",
            "20\n",
            "25\n",
            "30\n",
            "[20, 25, 30]\n",
            "[50.8, 63.5, 76.2]\n"
          ]
        }
      ]
    }
  ]
}